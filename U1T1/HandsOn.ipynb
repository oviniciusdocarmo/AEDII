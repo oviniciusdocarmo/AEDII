{
  "cells": [
    {
      "cell_type": "markdown",
      "metadata": {
        "id": "QG9npHtLmgm7"
      },
      "source": [
        "# Tutorial Hands-On: Ciência de Redes com Python"
      ]
    },
    {
      "cell_type": "markdown",
      "metadata": {
        "id": "N_Ot13Qv9Bhd"
      },
      "source": [
        "<h3> Introdução </h3>\n",
        "\n",
        "Redes estão em toda parte: desde conexões entre neurônios no cérebro até relações sociais no Instagram. Este tutorial combina **fundamentos teóricos** (baseados nos capítulos estudados) com **prática em Python** para você:  \n",
        "\n",
        "✅ **Modelar sistemas complexos** usando grafos (simples, direcionados, bipartidos).  \n",
        "✅ **Extrair insights** com métricas como centralidade e grau.  \n",
        "✅ **Visualizar padrões** em redes reais.  \n",
        "\n",
        "**Metodologia de estudo:**  \n",
        "\n",
        "![Captura de tela 2025-03-29 134158.png](imagens\\metodologia.png)\n"
      ]
    },
    {
      "cell_type": "markdown",
      "metadata": {
        "id": "2IuRRlj825O9"
      },
      "source": [
        "# konwing"
      ]
    },
    {
      "cell_type": "markdown",
      "metadata": {},
      "source": [
        "### Resumo dos Capítulos\n",
        "\n",
        "#### **Capítulo 2: Teoria da Probabilidade**\n",
        "Este capítulo introduz os fundamentos da probabilidade, essenciais para a análise de redes. Aborda dois enfoques principais:  \n",
        "- **Frequentista**: A probabilidade é baseada na frequência relativa de eventos após muitas repetições.  \n",
        "- **Bayesiano**: Incorpora \"prioris\" (conhecimentos prévios) para ajustar inferências.  \n",
        "\n",
        "**Conceitos-chave:**  \n",
        "1. **Notação Probabilística**:  \n",
        "   - Variáveis aleatórias (X), eventos (S) e probabilidade \\( P(X \\in S) \\).  \n",
        "   - Axiomas: probabilidades não negativas, soma 1 para todos os eventos possíveis, e aditividade para eventos mutuamente exclusivos.  \n",
        "\n",
        "2. **Probabilidade Condicional**:  \n",
        "   - \\( P(A|B) \\): Probabilidade de A dado B. Se \\( P(A|B) \\neq P(A) \\), os eventos são dependentes.  \n",
        "\n",
        "3. **Teorema de Bayes**:  \n",
        "   - Atualiza prioris com novos dados:  \n",
        "     \\[\n",
        "     P(W|H) = \\frac{P(H|W)P(W)}{P(H)}\n",
        "     \\]  \n",
        "   - Exemplo: Diagnóstico médico com falsos positivos.  \n",
        "\n",
        "4. **Processos Estocásticos**:  \n",
        "   - Modelam variáveis aleatórias ao longo do tempo (ex.: movimento browniano).  \n",
        "   - **Processos de Markov**: O próximo estado depende apenas do estado atual (sem memória).  \n",
        "\n",
        "5. **Alternativas à Probabilidade**:  \n",
        "   - **Teoria de Dempster-Shafer**: Trabalha com intervalos de probabilidade (crença e plausibilidade).  \n",
        "   - **Lógica Fuzzy**: Permite graus de verdade entre 0 e 1 (ex.: \"jovem\" vs. \"velho\").  \n",
        "\n",
        "---\n",
        "\n",
        "#### **Capítulo 3: Estatística**\n",
        "Foca em ferramentas para descrever e interpretar dados, assumindo que já foram coletados e validados.  \n",
        "\n",
        "**Conceitos-chave:**  \n",
        "1. **Estatísticas Descritivas**:  \n",
        "   - **Média e Mediana**: Úteis para entender valores típicos (a mediana é robusta a dados assimétricos).  \n",
        "   - **Variância e Desvio Padrão**: Medem a dispersão dos dados em torno da média.  \n",
        "\n",
        "2. **Distribuições**:  \n",
        "   - **Normal (Gaussiana)**: Dados simétricos em torno da média.  \n",
        "   - **Power Law e Lognormal**: Comuns em redes (ex.: distribuição de conexões).  \n",
        "   - **Caudas Longas/Gordas**: Descrevem a presença de outliers extremos ou frequentes.  \n",
        "\n",
        "3. **p-Valores**:  \n",
        "   - Probabilidade de observar um resultado sob a hipótese nula (não efeito).  \n",
        "   - **Cuidado**: p-valores altos não confirmam a hipótese nula; baixos refutam-na.  \n",
        "\n",
        "4. **Correlação**:  \n",
        "   - **Pearson**: Mede relações lineares (sensível a outliers).  \n",
        "   - **Spearman**: Baseado em ranks, captura relações monotônicas.  \n",
        "   - **Transformação Log**: Útil para relações não lineares.  \n",
        "\n",
        "5. **Informação Mútua (MI)**:  \n",
        "   - Quantifica o quanto saber um valor reduz a incerteza sobre outro (medida em bits).  \n",
        "   - Baseada na **entropia de Shannon**: \\( H_x = -\\sum p_i \\log_2(p_i) \\).  \n",
        "\n",
        "---\n",
        "\n",
        "#### **Capítulo 6: Grafos Básicos**\n",
        "Este capítulo introduz os conceitos fundamentais da teoria dos grafos, essenciais para a análise de redes.  \n",
        "\n",
        "**Conceitos-chave:**  \n",
        "1. **Grafos Simples**:  \n",
        "   - **Nós (vértices)**: Representam entidades (ex.: pessoas em uma rede social).  \n",
        "   - **Arestas**: Conexões entre nós (ex.: amizades).  \n",
        "   - Notação: \\( G = (V, E) \\), onde \\( V \\) é o conjunto de nós e \\( E \\) o conjunto de arestas.  \n",
        "\n",
        "2. **Grafos Direcionados**:  \n",
        "   - Arestas têm direção \\((u, v) \\neq (v, u)\\). Ex.: seguidores no Twitter.  \n",
        "   - Representação visual com setas.  \n",
        "\n",
        "3. **Grafos Ponderados**:  \n",
        "   - Arestas possuem pesos (valores numéricos) que indicam intensidade, custo ou similaridade.  \n",
        "   - Semântica dos pesos:  \n",
        "     - **Proximidade**: Valores altos indicam conexões fortes (ex.: número de mensagens trocadas).  \n",
        "     - **Distância**: Valores altos indicam custo alto (ex.: tempo de viagem entre cidades).  \n",
        "\n",
        "4. **Tipos de Redes**:  \n",
        "   - **Redes Simples**: Estruturas regulares (ex.: grades, lattices) com propriedades previsíveis.  \n",
        "   - **Redes Complexas**: Sistemas com propriedades emergentes (ex.: redes sociais, biológicas).  \n",
        "   - **Redes Bayesianas**: Modelam dependências probabilísticas entre variáveis (ex.: causa-efeito).  \n",
        "\n",
        "5. **Visualização**:  \n",
        "   - Nós são círculos, arestas são linhas (ou setas, para grafos direcionados).  \n",
        "   - Peso das arestas pode ser representado por espessura ou rótulos.  \n",
        "\n",
        "---\n",
        "\n",
        "#### **Capítulo 7: Grafos Estendidos**\n",
        "Expande os modelos básicos para representar sistemas mais complexos.  \n",
        "\n",
        "**Conceitos-chave:**  \n",
        "1. **Grafos Bipartidos**:  \n",
        "   - Dois tipos de nós (ex.: usuários e produtos), com arestas apenas entre tipos diferentes.  \n",
        "   - Aplicações: redes de colaboração (ex.: autores e artigos).  \n",
        "\n",
        "2. **Redes Multilayer**:  \n",
        "   - **Multigrafos**: Múltiplas arestas entre os mesmos nós, cada uma com um \"rótulo\" (ex.: redes sociais em diferentes plataformas).  \n",
        "   - **Acoplamento entre camadas**: Conexões que identificam o mesmo nó em diferentes camadas (ex.: perfis de um usuário no Facebook e LinkedIn).  \n",
        "\n",
        "3. **Redes com Sinais**:  \n",
        "   - Arestas podem ser positivas (amizade) ou negativas (inimizade).  \n",
        "   - **Balanceamento estrutural**: Padrões de relações que tendem a ser estáveis (ex.: \"o inimigo do meu inimigo é meu amigo\").  \n",
        "\n",
        "4. **Hipergrafos e Complexos Simpliciais**:  \n",
        "   - **Hipergrafos**: Arestas que conectam mais de dois nós (ex.: equipes de trabalho).  \n",
        "   - **Complexos Simpliciais**: Generalização de hipergrafos com estrutura geométrica (ex.: redes de coautoria científica).  \n",
        "\n",
        "5. **Redes Dinâmicas**:  \n",
        "   - Arestas e nós podem aparecer/desaparecer ao longo do tempo.  \n",
        "   - Técnicas de análise:  \n",
        "     - **Janelas deslizantes**: Mantêm continuidade temporal.  \n",
        "     - **Janelas cumulativas**: Acumulam todas as interações passadas.  \n",
        "\n",
        "6. **Atributos em Nós**:  \n",
        "   - Metadados qualitativos (ex.: gênero) ou quantitativos (ex.: idade).  \n",
        "   - Influenciam a formação de arestas (ex.: homofilia – tendência de conexão entre nós similares).  \n",
        "\n",
        "---"
      ]
    },
    {
      "cell_type": "markdown",
      "metadata": {},
      "source": [
        "# Dicovering\n"
      ]
    },
    {
      "cell_type": "markdown",
      "metadata": {
        "id": "MyLeqcSLmgm8"
      },
      "source": [
        "## The `import` statement\n"
      ]
    },
    {
      "cell_type": "markdown",
      "metadata": {
        "id": "k4gPM3vy9UMs"
      },
      "source": [
        "\n",
        "Recall that `import` statements go at the top of your code, telling Python to load an external module. In this case we want to load NetworkX, but give it a short alias `nx` since we'll have to type it repeatedly, hence the `as` statement.\n",
        "\n",
        "Lines starting with the `%` character are not Python code, they are \"magic\" directives for Jupyter notebook. The `%matplotlib inline` magic tells Jupyter Notebook to draw graphics inline i.e. in the notebook. This magic should be used right after the import statement."
      ]
    },
    {
      "cell_type": "code",
      "execution_count": 1,
      "metadata": {
        "id": "Qwj-Cuetmgm8"
      },
      "outputs": [],
      "source": [
        "import networkx as nx\n",
        "%matplotlib inline"
      ]
    },
    {
      "cell_type": "markdown",
      "metadata": {
        "id": "S5e8Cvwbmgm8"
      },
      "source": [
        "Let's check the installed version of NetworkX. Version 2 is incompatible with v1, so we want to make sure we're not using an out of date package."
      ]
    },
    {
      "cell_type": "code",
      "execution_count": 2,
      "metadata": {
        "id": "NDm6CKkImgm9"
      },
      "outputs": [
        {
          "data": {
            "text/plain": [
              "'3.4.2'"
            ]
          },
          "execution_count": 2,
          "metadata": {},
          "output_type": "execute_result"
        }
      ],
      "source": [
        "nx.__version__"
      ]
    },
    {
      "cell_type": "markdown",
      "metadata": {
        "id": "qh0OemKjmgm9"
      },
      "source": [
        "## Creating and drawing undirected graphs"
      ]
    },
    {
      "cell_type": "code",
      "execution_count": 3,
      "metadata": {
        "id": "JY9ew9PTmgm9"
      },
      "outputs": [
        {
          "data": {
            "image/png": "[encoded data removed]",
            "text/plain": [
              "<Figure size 640x480 with 1 Axes>"
            ]
          },
          "metadata": {},
          "output_type": "display_data"
        }
      ],
      "source": [
        "# a \"plain\" graph is undirected\n",
        "G = nx.Graph()\n",
        "\n",
        "# give each a node a 'name', which is a letter in this case.\n",
        "G.add_node('a')\n",
        "\n",
        "# the add_nodes_from method allows adding nodes from a sequence, in this case a list\n",
        "nodes_to_add = ['b', 'c', 'd']\n",
        "G.add_nodes_from(nodes_to_add)\n",
        "\n",
        "# add edge from 'a' to 'b'\n",
        "# since this graph is undirected, the order doesn't matter here\n",
        "G.add_edge('a', 'b')\n",
        "\n",
        "# just like add_nodes_from, we can add edges from a sequence\n",
        "# edges should be specified as 2-tuples\n",
        "edges_to_add = [('a', 'c'), ('b', 'c'), ('c', 'd')]\n",
        "G.add_edges_from(edges_to_add)\n",
        "\n",
        "# draw the graph\n",
        "nx.draw(G, with_labels=True)"
      ]
    },
    {
      "cell_type": "markdown",
      "metadata": {
        "id": "XPJ5hkEPmgm9"
      },
      "source": [
        "There are many optional arguments to the draw function to customize the appearance."
      ]
    },
    {
      "cell_type": "code",
      "execution_count": 4,
      "metadata": {
        "id": "bQUnoCy9mgm-"
      },
      "outputs": [
        {
          "data": {
            "image/png": "[encoded data removed]",
            "text/plain": [
              "<Figure size 1000x800 with 1 Axes>"
            ]
          },
          "metadata": {},
          "output_type": "display_data"
        }
      ],
      "source": [
        "import matplotlib.pyplot as plt\n",
        "\n",
        "fig, ax = plt.subplots(1,1,figsize=(10,8))\n",
        "nx.draw(G,\n",
        "        with_labels=True,\n",
        "        node_color='blue',\n",
        "        node_size=1600,\n",
        "        font_color='white',\n",
        "        font_size=16,ax=ax\n",
        "        )"
      ]
    },
    {
      "cell_type": "markdown",
      "metadata": {
        "id": "YEa3CBUEmgm-"
      },
      "source": [
        "### A note on naming conventions\n"
      ]
    },
    {
      "cell_type": "markdown",
      "metadata": {
        "id": "z9D-PUHo9XTC"
      },
      "source": [
        "\n",
        "Usually in Python, variables are named in `snake_case`, i.e. lowercase with underscores separating words. Classes are conventionally named in `CamelCase`, i.e. with the first letter of each word capitalized.\n",
        "\n",
        "Obviously NetworkX doesn't use this convention, often using single capital letters for the names of graphs. This is an example of convention leaking from the world of discrete mathematics. Since most of the documentation you will find online uses this convention, we will follow it as well."
      ]
    },
    {
      "cell_type": "markdown",
      "metadata": {
        "id": "4bPMI-u5mgm-"
      },
      "source": [
        "## Graph methods\n",
        "\n",
        "The graph object has some properties and methods giving data about the whole graph."
      ]
    },
    {
      "cell_type": "code",
      "execution_count": 5,
      "metadata": {
        "id": "ERBk73jVmgm-"
      },
      "outputs": [
        {
          "data": {
            "text/plain": [
              "NodeView(('a', 'b', 'c', 'd'))"
            ]
          },
          "execution_count": 5,
          "metadata": {},
          "output_type": "execute_result"
        }
      ],
      "source": [
        "# List all of the nodes\n",
        "G.nodes()"
      ]
    },
    {
      "cell_type": "code",
      "execution_count": 6,
      "metadata": {
        "id": "-28h383Cmgm-"
      },
      "outputs": [
        {
          "data": {
            "text/plain": [
              "EdgeView([('a', 'b'), ('a', 'c'), ('b', 'c'), ('c', 'd')])"
            ]
          },
          "execution_count": 6,
          "metadata": {},
          "output_type": "execute_result"
        }
      ],
      "source": [
        "# List all of the edges\n",
        "G.edges()"
      ]
    },
    {
      "cell_type": "markdown",
      "metadata": {
        "id": "EKDWMPk7mgm-"
      },
      "source": [
        "NodeView and EdgeView objects have iterators, so we can use them in `for` loops:"
      ]
    },
    {
      "cell_type": "code",
      "execution_count": 7,
      "metadata": {
        "id": "n-VUFHDFmgm-"
      },
      "outputs": [
        {
          "name": "stdout",
          "output_type": "stream",
          "text": [
            "a\n",
            "b\n",
            "c\n",
            "d\n"
          ]
        }
      ],
      "source": [
        "for node in G.nodes:\n",
        "    print(node)"
      ]
    },
    {
      "cell_type": "code",
      "execution_count": 8,
      "metadata": {
        "id": "nlljjdqEmgm_",
        "scrolled": true
      },
      "outputs": [
        {
          "name": "stdout",
          "output_type": "stream",
          "text": [
            "('a', 'b')\n",
            "('a', 'c')\n",
            "('b', 'c')\n",
            "('c', 'd')\n"
          ]
        }
      ],
      "source": [
        "for edge in G.edges:\n",
        "    print(edge)"
      ]
    },
    {
      "cell_type": "markdown",
      "metadata": {
        "id": "3bdiWAWJmgm_"
      },
      "source": [
        "Note that the edges are given as 2-tuples, the same way we entered them.\n",
        "\n",
        "We can get the number of nodes and edges in a graph using the `number_of_` methods."
      ]
    },
    {
      "cell_type": "code",
      "execution_count": 9,
      "metadata": {
        "id": "MJ6j7vf_mgm_"
      },
      "outputs": [
        {
          "data": {
            "text/plain": [
              "4"
            ]
          },
          "execution_count": 9,
          "metadata": {},
          "output_type": "execute_result"
        }
      ],
      "source": [
        "G.number_of_nodes()"
      ]
    },
    {
      "cell_type": "code",
      "execution_count": 10,
      "metadata": {
        "id": "zTnGX7Hbmgm_"
      },
      "outputs": [
        {
          "data": {
            "text/plain": [
              "4"
            ]
          },
          "execution_count": 10,
          "metadata": {},
          "output_type": "execute_result"
        }
      ],
      "source": [
        "G.number_of_edges()"
      ]
    },
    {
      "cell_type": "markdown",
      "metadata": {
        "id": "bqNH0CaWmgm_"
      },
      "source": [
        "Some graph methods take an edge or node as argument. These provide the graph properties of the given edge or node. For example, the `.neighbors()` method gives the nodes linked to the given node:"
      ]
    },
    {
      "cell_type": "code",
      "execution_count": 11,
      "metadata": {
        "id": "RZKxKFdvmgm_"
      },
      "outputs": [
        {
          "data": {
            "text/plain": [
              "<dict_keyiterator at 0x176096fde40>"
            ]
          },
          "execution_count": 11,
          "metadata": {},
          "output_type": "execute_result"
        }
      ],
      "source": [
        "# list of neighbors of node 'b'\n",
        "G.neighbors('b')"
      ]
    },
    {
      "cell_type": "markdown",
      "metadata": {
        "id": "-yPztVU1mgm_"
      },
      "source": [
        "For performance reasons, many graph methods return iterators instead of lists. They are convenient to loop over:"
      ]
    },
    {
      "cell_type": "code",
      "execution_count": 12,
      "metadata": {
        "id": "CPAE8-Z8mgm_"
      },
      "outputs": [
        {
          "name": "stdout",
          "output_type": "stream",
          "text": [
            "a\n",
            "c\n"
          ]
        }
      ],
      "source": [
        "for neighbor in G.neighbors('b'):\n",
        "    print(neighbor)"
      ]
    },
    {
      "cell_type": "markdown",
      "metadata": {
        "id": "wQ7ah7ocmgm_"
      },
      "source": [
        "and you can always use the `list` constructor to make a list from an iterator:"
      ]
    },
    {
      "cell_type": "code",
      "execution_count": 13,
      "metadata": {
        "id": "v7AVsRJrmgnA"
      },
      "outputs": [
        {
          "data": {
            "text/plain": [
              "['a', 'c']"
            ]
          },
          "execution_count": 13,
          "metadata": {},
          "output_type": "execute_result"
        }
      ],
      "source": [
        "list(G.neighbors('b'))"
      ]
    },
    {
      "cell_type": "markdown",
      "metadata": {
        "id": "wIwV0_8D2xaa"
      },
      "source": [
        "### An advance example using data visualization"
      ]
    },
    {
      "cell_type": "code",
      "execution_count": 14,
      "metadata": {
        "id": "y3E8mXCp3XD1"
      },
      "outputs": [
        {
          "data": {
            "application/vnd.plotly.v1+json": {
              "config": {
                "plotlyServerURL": "https://plot.ly"
              },
              "data": [
                {
                  "hoverinfo": "none",
                  "line": {
                    "color": "#888",
                    "width": 0.5
                  },
                  "mode": "lines",
                  "type": "scatter",
                  "x": [
                    -0.5213122293853719,
                    0.1312684137695518,
                    null,
                    -0.5213122293853719,
                    0.04719704992176461,
                    null,
                    0.1312684137695518,
                    0.04719704992176461,
                    null,
                    0.04719704992176461,
                    0.34284676569405564,
                    null
                  ],
                  "y": [
                    0.4569635330420233,
                    0.6806986958611421,
                    null,
                    0.4569635330420233,
                    -0.1376622289031659,
                    null,
                    0.6806986958611421,
                    -0.1376622289031659,
                    null,
                    -0.1376622289031659,
                    -0.9999999999999999,
                    null
                  ]
                },
                {
                  "hoverinfo": "text",
                  "marker": {
                    "color": [],
                    "colorscale": [
                      [
                        0,
                        "rgb(255,255,217)"
                      ],
                      [
                        0.125,
                        "rgb(237,248,177)"
                      ],
                      [
                        0.25,
                        "rgb(199,233,180)"
                      ],
                      [
                        0.375,
                        "rgb(127,205,187)"
                      ],
                      [
                        0.5,
                        "rgb(65,182,196)"
                      ],
                      [
                        0.625,
                        "rgb(29,145,192)"
                      ],
                      [
                        0.75,
                        "rgb(34,94,168)"
                      ],
                      [
                        0.875,
                        "rgb(37,52,148)"
                      ],
                      [
                        1,
                        "rgb(8,29,88)"
                      ]
                    ],
                    "line": {
                      "width": 2
                    },
                    "reversescale": true,
                    "showscale": false,
                    "size": 10
                  },
                  "mode": "markers+text",
                  "text": [
                    "a",
                    "b",
                    "c",
                    "d"
                  ],
                  "textposition": "bottom center",
                  "type": "scatter",
                  "x": [
                    -0.5213122293853719,
                    0.1312684137695518,
                    0.04719704992176461,
                    0.34284676569405564
                  ],
                  "y": [
                    0.4569635330420233,
                    0.6806986958611421,
                    -0.1376622289031659,
                    -0.9999999999999999
                  ]
                }
              ],
              "layout": {
                "hovermode": "closest",
                "margin": {
                  "b": 20,
                  "l": 5,
                  "r": 5,
                  "t": 40
                },
                "showlegend": false,
                "template": {
                  "data": {
                    "bar": [
                      {
                        "error_x": {
                          "color": "#2a3f5f"
                        },
                        "error_y": {
                          "color": "#2a3f5f"
                        },
                        "marker": {
                          "line": {
                            "color": "#E5ECF6",
                            "width": 0.5
                          },
                          "pattern": {
                            "fillmode": "overlay",
                            "size": 10,
                            "solidity": 0.2
                          }
                        },
                        "type": "bar"
                      }
                    ],
                    "barpolar": [
                      {
                        "marker": {
                          "line": {
                            "color": "#E5ECF6",
                            "width": 0.5
                          },
                          "pattern": {
                            "fillmode": "overlay",
                            "size": 10,
                            "solidity": 0.2
                          }
                        },
                        "type": "barpolar"
                      }
                    ],
                    "carpet": [
                      {
                        "aaxis": {
                          "endlinecolor": "#2a3f5f",
                          "gridcolor": "white",
                          "linecolor": "white",
                          "minorgridcolor": "white",
                          "startlinecolor": "#2a3f5f"
                        },
                        "baxis": {
                          "endlinecolor": "#2a3f5f",
                          "gridcolor": "white",
                          "linecolor": "white",
                          "minorgridcolor": "white",
                          "startlinecolor": "#2a3f5f"
                        },
                        "type": "carpet"
                      }
                    ],
                    "choropleth": [
                      {
                        "colorbar": {
                          "outlinewidth": 0,
                          "ticks": ""
                        },
                        "type": "choropleth"
                      }
                    ],
                    "contour": [
                      {
                        "colorbar": {
                          "outlinewidth": 0,
                          "ticks": ""
                        },
                        "colorscale": [
                          [
                            0,
                            "#0d0887"
                          ],
                          [
                            0.1111111111111111,
                            "#46039f"
                          ],
                          [
                            0.2222222222222222,
                            "#7201a8"
                          ],
                          [
                            0.3333333333333333,
                            "#9c179e"
                          ],
                          [
                            0.4444444444444444,
                            "#bd3786"
                          ],
                          [
                            0.5555555555555556,
                            "#d8576b"
                          ],
                          [
                            0.6666666666666666,
                            "#ed7953"
                          ],
                          [
                            0.7777777777777778,
                            "#fb9f3a"
                          ],
                          [
                            0.8888888888888888,
                            "#fdca26"
                          ],
                          [
                            1,
                            "#f0f921"
                          ]
                        ],
                        "type": "contour"
                      }
                    ],
                    "contourcarpet": [
                      {
                        "colorbar": {
                          "outlinewidth": 0,
                          "ticks": ""
                        },
                        "type": "contourcarpet"
                      }
                    ],
                    "heatmap": [
                      {
                        "colorbar": {
                          "outlinewidth": 0,
                          "ticks": ""
                        },
                        "colorscale": [
                          [
                            0,
                            "#0d0887"
                          ],
                          [
                            0.1111111111111111,
                            "#46039f"
                          ],
                          [
                            0.2222222222222222,
                            "#7201a8"
                          ],
                          [
                            0.3333333333333333,
                            "#9c179e"
                          ],
                          [
                            0.4444444444444444,
                            "#bd3786"
                          ],
                          [
                            0.5555555555555556,
                            "#d8576b"
                          ],
                          [
                            0.6666666666666666,
                            "#ed7953"
                          ],
                          [
                            0.7777777777777778,
                            "#fb9f3a"
                          ],
                          [
                            0.8888888888888888,
                            "#fdca26"
                          ],
                          [
                            1,
                            "#f0f921"
                          ]
                        ],
                        "type": "heatmap"
                      }
                    ],
                    "histogram": [
                      {
                        "marker": {
                          "pattern": {
                            "fillmode": "overlay",
                            "size": 10,
                            "solidity": 0.2
                          }
                        },
                        "type": "histogram"
                      }
                    ],
                    "histogram2d": [
                      {
                        "colorbar": {
                          "outlinewidth": 0,
                          "ticks": ""
                        },
                        "colorscale": [
                          [
                            0,
                            "#0d0887"
                          ],
                          [
                            0.1111111111111111,
                            "#46039f"
                          ],
                          [
                            0.2222222222222222,
                            "#7201a8"
                          ],
                          [
                            0.3333333333333333,
                            "#9c179e"
                          ],
                          [
                            0.4444444444444444,
                            "#bd3786"
                          ],
                          [
                            0.5555555555555556,
                            "#d8576b"
                          ],
                          [
                            0.6666666666666666,
                            "#ed7953"
                          ],
                          [
                            0.7777777777777778,
                            "#fb9f3a"
                          ],
                          [
                            0.8888888888888888,
                            "#fdca26"
                          ],
                          [
                            1,
                            "#f0f921"
                          ]
                        ],
                        "type": "histogram2d"
                      }
                    ],
                    "histogram2dcontour": [
                      {
                        "colorbar": {
                          "outlinewidth": 0,
                          "ticks": ""
                        },
                        "colorscale": [
                          [
                            0,
                            "#0d0887"
                          ],
                          [
                            0.1111111111111111,
                            "#46039f"
                          ],
                          [
                            0.2222222222222222,
                            "#7201a8"
                          ],
                          [
                            0.3333333333333333,
                            "#9c179e"
                          ],
                          [
                            0.4444444444444444,
                            "#bd3786"
                          ],
                          [
                            0.5555555555555556,
                            "#d8576b"
                          ],
                          [
                            0.6666666666666666,
                            "#ed7953"
                          ],
                          [
                            0.7777777777777778,
                            "#fb9f3a"
                          ],
                          [
                            0.8888888888888888,
                            "#fdca26"
                          ],
                          [
                            1,
                            "#f0f921"
                          ]
                        ],
                        "type": "histogram2dcontour"
                      }
                    ],
                    "mesh3d": [
                      {
                        "colorbar": {
                          "outlinewidth": 0,
                          "ticks": ""
                        },
                        "type": "mesh3d"
                      }
                    ],
                    "parcoords": [
                      {
                        "line": {
                          "colorbar": {
                            "outlinewidth": 0,
                            "ticks": ""
                          }
                        },
                        "type": "parcoords"
                      }
                    ],
                    "pie": [
                      {
                        "automargin": true,
                        "type": "pie"
                      }
                    ],
                    "scatter": [
                      {
                        "fillpattern": {
                          "fillmode": "overlay",
                          "size": 10,
                          "solidity": 0.2
                        },
                        "type": "scatter"
                      }
                    ],
                    "scatter3d": [
                      {
                        "line": {
                          "colorbar": {
                            "outlinewidth": 0,
                            "ticks": ""
                          }
                        },
                        "marker": {
                          "colorbar": {
                            "outlinewidth": 0,
                            "ticks": ""
                          }
                        },
                        "type": "scatter3d"
                      }
                    ],
                    "scattercarpet": [
                      {
                        "marker": {
                          "colorbar": {
                            "outlinewidth": 0,
                            "ticks": ""
                          }
                        },
                        "type": "scattercarpet"
                      }
                    ],
                    "scattergeo": [
                      {
                        "marker": {
                          "colorbar": {
                            "outlinewidth": 0,
                            "ticks": ""
                          }
                        },
                        "type": "scattergeo"
                      }
                    ],
                    "scattergl": [
                      {
                        "marker": {
                          "colorbar": {
                            "outlinewidth": 0,
                            "ticks": ""
                          }
                        },
                        "type": "scattergl"
                      }
                    ],
                    "scattermap": [
                      {
                        "marker": {
                          "colorbar": {
                            "outlinewidth": 0,
                            "ticks": ""
                          }
                        },
                        "type": "scattermap"
                      }
                    ],
                    "scattermapbox": [
                      {
                        "marker": {
                          "colorbar": {
                            "outlinewidth": 0,
                            "ticks": ""
                          }
                        },
                        "type": "scattermapbox"
                      }
                    ],
                    "scatterpolar": [
                      {
                        "marker": {
                          "colorbar": {
                            "outlinewidth": 0,
                            "ticks": ""
                          }
                        },
                        "type": "scatterpolar"
                      }
                    ],
                    "scatterpolargl": [
                      {
                        "marker": {
                          "colorbar": {
                            "outlinewidth": 0,
                            "ticks": ""
                          }
                        },
                        "type": "scatterpolargl"
                      }
                    ],
                    "scatterternary": [
                      {
                        "marker": {
                          "colorbar": {
                            "outlinewidth": 0,
                            "ticks": ""
                          }
                        },
                        "type": "scatterternary"
                      }
                    ],
                    "surface": [
                      {
                        "colorbar": {
                          "outlinewidth": 0,
                          "ticks": ""
                        },
                        "colorscale": [
                          [
                            0,
                            "#0d0887"
                          ],
                          [
                            0.1111111111111111,
                            "#46039f"
                          ],
                          [
                            0.2222222222222222,
                            "#7201a8"
                          ],
                          [
                            0.3333333333333333,
                            "#9c179e"
                          ],
                          [
                            0.4444444444444444,
                            "#bd3786"
                          ],
                          [
                            0.5555555555555556,
                            "#d8576b"
                          ],
                          [
                            0.6666666666666666,
                            "#ed7953"
                          ],
                          [
                            0.7777777777777778,
                            "#fb9f3a"
                          ],
                          [
                            0.8888888888888888,
                            "#fdca26"
                          ],
                          [
                            1,
                            "#f0f921"
                          ]
                        ],
                        "type": "surface"
                      }
                    ],
                    "table": [
                      {
                        "cells": {
                          "fill": {
                            "color": "#EBF0F8"
                          },
                          "line": {
                            "color": "white"
                          }
                        },
                        "header": {
                          "fill": {
                            "color": "#C8D4E3"
                          },
                          "line": {
                            "color": "white"
                          }
                        },
                        "type": "table"
                      }
                    ]
                  },
                  "layout": {
                    "annotationdefaults": {
                      "arrowcolor": "#2a3f5f",
                      "arrowhead": 0,
                      "arrowwidth": 1
                    },
                    "autotypenumbers": "strict",
                    "coloraxis": {
                      "colorbar": {
                        "outlinewidth": 0,
                        "ticks": ""
                      }
                    },
                    "colorscale": {
                      "diverging": [
                        [
                          0,
                          "#8e0152"
                        ],
                        [
                          0.1,
                          "#c51b7d"
                        ],
                        [
                          0.2,
                          "#de77ae"
                        ],
                        [
                          0.3,
                          "#f1b6da"
                        ],
                        [
                          0.4,
                          "#fde0ef"
                        ],
                        [
                          0.5,
                          "#f7f7f7"
                        ],
                        [
                          0.6,
                          "#e6f5d0"
                        ],
                        [
                          0.7,
                          "#b8e186"
                        ],
                        [
                          0.8,
                          "#7fbc41"
                        ],
                        [
                          0.9,
                          "#4d9221"
                        ],
                        [
                          1,
                          "#276419"
                        ]
                      ],
                      "sequential": [
                        [
                          0,
                          "#0d0887"
                        ],
                        [
                          0.1111111111111111,
                          "#46039f"
                        ],
                        [
                          0.2222222222222222,
                          "#7201a8"
                        ],
                        [
                          0.3333333333333333,
                          "#9c179e"
                        ],
                        [
                          0.4444444444444444,
                          "#bd3786"
                        ],
                        [
                          0.5555555555555556,
                          "#d8576b"
                        ],
                        [
                          0.6666666666666666,
                          "#ed7953"
                        ],
                        [
                          0.7777777777777778,
                          "#fb9f3a"
                        ],
                        [
                          0.8888888888888888,
                          "#fdca26"
                        ],
                        [
                          1,
                          "#f0f921"
                        ]
                      ],
                      "sequentialminus": [
                        [
                          0,
                          "#0d0887"
                        ],
                        [
                          0.1111111111111111,
                          "#46039f"
                        ],
                        [
                          0.2222222222222222,
                          "#7201a8"
                        ],
                        [
                          0.3333333333333333,
                          "#9c179e"
                        ],
                        [
                          0.4444444444444444,
                          "#bd3786"
                        ],
                        [
                          0.5555555555555556,
                          "#d8576b"
                        ],
                        [
                          0.6666666666666666,
                          "#ed7953"
                        ],
                        [
                          0.7777777777777778,
                          "#fb9f3a"
                        ],
                        [
                          0.8888888888888888,
                          "#fdca26"
                        ],
                        [
                          1,
                          "#f0f921"
                        ]
                      ]
                    },
                    "colorway": [
                      "#636efa",
                      "#EF553B",
                      "#00cc96",
                      "#ab63fa",
                      "#FFA15A",
                      "#19d3f3",
                      "#FF6692",
                      "#B6E880",
                      "#FF97FF",
                      "#FECB52"
                    ],
                    "font": {
                      "color": "#2a3f5f"
                    },
                    "geo": {
                      "bgcolor": "white",
                      "lakecolor": "white",
                      "landcolor": "#E5ECF6",
                      "showlakes": true,
                      "showland": true,
                      "subunitcolor": "white"
                    },
                    "hoverlabel": {
                      "align": "left"
                    },
                    "hovermode": "closest",
                    "mapbox": {
                      "style": "light"
                    },
                    "paper_bgcolor": "white",
                    "plot_bgcolor": "#E5ECF6",
                    "polar": {
                      "angularaxis": {
                        "gridcolor": "white",
                        "linecolor": "white",
                        "ticks": ""
                      },
                      "bgcolor": "#E5ECF6",
                      "radialaxis": {
                        "gridcolor": "white",
                        "linecolor": "white",
                        "ticks": ""
                      }
                    },
                    "scene": {
                      "xaxis": {
                        "backgroundcolor": "#E5ECF6",
                        "gridcolor": "white",
                        "gridwidth": 2,
                        "linecolor": "white",
                        "showbackground": true,
                        "ticks": "",
                        "zerolinecolor": "white"
                      },
                      "yaxis": {
                        "backgroundcolor": "#E5ECF6",
                        "gridcolor": "white",
                        "gridwidth": 2,
                        "linecolor": "white",
                        "showbackground": true,
                        "ticks": "",
                        "zerolinecolor": "white"
                      },
                      "zaxis": {
                        "backgroundcolor": "#E5ECF6",
                        "gridcolor": "white",
                        "gridwidth": 2,
                        "linecolor": "white",
                        "showbackground": true,
                        "ticks": "",
                        "zerolinecolor": "white"
                      }
                    },
                    "shapedefaults": {
                      "line": {
                        "color": "#2a3f5f"
                      }
                    },
                    "ternary": {
                      "aaxis": {
                        "gridcolor": "white",
                        "linecolor": "white",
                        "ticks": ""
                      },
                      "baxis": {
                        "gridcolor": "white",
                        "linecolor": "white",
                        "ticks": ""
                      },
                      "bgcolor": "#E5ECF6",
                      "caxis": {
                        "gridcolor": "white",
                        "linecolor": "white",
                        "ticks": ""
                      }
                    },
                    "title": {
                      "x": 0.05
                    },
                    "xaxis": {
                      "automargin": true,
                      "gridcolor": "white",
                      "linecolor": "white",
                      "ticks": "",
                      "title": {
                        "standoff": 15
                      },
                      "zerolinecolor": "white",
                      "zerolinewidth": 2
                    },
                    "yaxis": {
                      "automargin": true,
                      "gridcolor": "white",
                      "linecolor": "white",
                      "ticks": "",
                      "title": {
                        "standoff": 15
                      },
                      "zerolinecolor": "white",
                      "zerolinewidth": 2
                    }
                  }
                },
                "title": {
                  "text": "Networkx Graph Visualization with Plotly"
                },
                "xaxis": {
                  "showgrid": false,
                  "showticklabels": false,
                  "zeroline": false
                },
                "yaxis": {
                  "showgrid": false,
                  "showticklabels": false,
                  "zeroline": false
                }
              }
            }
          },
          "metadata": {},
          "output_type": "display_data"
        }
      ],
      "source": [
        "import plotly.graph_objects as go\n",
        "\n",
        "pos = nx.spring_layout(G)\n",
        "edge_x = []\n",
        "edge_y = []\n",
        "\n",
        "for edge in G.edges():\n",
        "    x0, y0 = pos[edge[0]]\n",
        "    x1, y1 = pos[edge[1]]\n",
        "    edge_x += [x0, x1, None]\n",
        "    edge_y += [y0, y1, None]\n",
        "\n",
        "edge_trace = go.Scatter(x=edge_x, y=edge_y,\n",
        "                        line=dict(width=0.5, color=\"#888\"),\n",
        "                        hoverinfo=\"none\",\n",
        "                        mode=\"lines\")\n",
        "\n",
        "node_x = [pos[node][0] for node in G.nodes()]\n",
        "node_y = [pos[node][1] for node in G.nodes()]\n",
        "\n",
        "node_trace = go.Scatter(x=node_x, y=node_y,\n",
        "                        mode=\"markers+text\",\n",
        "                        text=list(G.nodes()),\n",
        "                        textposition=\"bottom center\",\n",
        "                        hoverinfo=\"text\",\n",
        "                        marker=dict(showscale=False,\n",
        "                                    colorscale='YlGnBu',\n",
        "                                    reversescale=True,\n",
        "                                    color=[],\n",
        "                                    size=10,line=dict(width=2))\n",
        "                        )\n",
        "\n",
        "fig = go.Figure(data=[edge_trace, node_trace],\n",
        "                layout=go.Layout(\n",
        "                    title=\"Networkx Graph Visualization with Plotly\",\n",
        "                    showlegend=False,\n",
        "                    hovermode='closest',\n",
        "                    margin=dict(b=20, l=5, r=5, t=40),\n",
        "                    xaxis=dict(showgrid=False,\n",
        "                               zeroline=False,\n",
        "                               showticklabels=False),\n",
        "                    yaxis=dict(showgrid=False,\n",
        "                               zeroline=False,\n",
        "                               showticklabels=False)\n",
        "                    )\n",
        "                )\n",
        "fig.show()"
      ]
    },
    {
      "cell_type": "markdown",
      "metadata": {
        "id": "LxcVIHh2mgnA"
      },
      "source": [
        "# NetworkX functions vs. Graph methods\n"
      ]
    },
    {
      "cell_type": "markdown",
      "metadata": {
        "id": "p_wy_aLz9Z1J"
      },
      "source": [
        "\n",
        "The previous data are available via graph *methods*, *i.e.* they are called from the graph object:\n",
        "\n",
        "    G.<method_name>(<arguments>)\n",
        "\n",
        "While several of the most-used NetworkX functions are provided as methods, many more of them are module functions and are called like this:\n",
        "\n",
        "    nx.<function_name>(G, <arguments>)\n",
        "\n",
        "that is, with the graph provided as the first, and maybe only, argument. Here are a couple of examples of NetworkX module functions that provide information about a graph:"
      ]
    },
    {
      "cell_type": "code",
      "execution_count": 20,
      "metadata": {
        "id": "VIoTGFH3mgnA"
      },
      "outputs": [
        {
          "data": {
            "text/plain": [
              "False"
            ]
          },
          "execution_count": 20,
          "metadata": {},
          "output_type": "execute_result"
        }
      ],
      "source": [
        "nx.is_tree(G)"
      ]
    },
    {
      "cell_type": "code",
      "execution_count": 21,
      "metadata": {
        "id": "gbIuMKNJmgnA"
      },
      "outputs": [
        {
          "data": {
            "text/plain": [
              "True"
            ]
          },
          "execution_count": 21,
          "metadata": {},
          "output_type": "execute_result"
        }
      ],
      "source": [
        "nx.is_connected(G)"
      ]
    },
    {
      "cell_type": "markdown",
      "metadata": {
        "id": "3L7uuaSPmgnA"
      },
      "source": [
        "## Node and edge existence\n"
      ]
    },
    {
      "cell_type": "markdown",
      "metadata": {
        "id": "m_hW0aPg9car"
      },
      "source": [
        "\n",
        "To check if a node is present in a graph, you can use the `has_node()` method:"
      ]
    },
    {
      "cell_type": "code",
      "execution_count": 22,
      "metadata": {
        "id": "WfiSCgkJmgnA"
      },
      "outputs": [
        {
          "data": {
            "text/plain": [
              "True"
            ]
          },
          "execution_count": 22,
          "metadata": {},
          "output_type": "execute_result"
        }
      ],
      "source": [
        "G.has_node('a')"
      ]
    },
    {
      "cell_type": "code",
      "execution_count": 23,
      "metadata": {
        "id": "GqZntbp4mgnA"
      },
      "outputs": [
        {
          "data": {
            "text/plain": [
              "False"
            ]
          },
          "execution_count": 23,
          "metadata": {},
          "output_type": "execute_result"
        }
      ],
      "source": [
        "G.has_node('x')"
      ]
    },
    {
      "cell_type": "markdown",
      "metadata": {
        "id": "hwz9zJThmgnA"
      },
      "source": [
        "Additionally, the loop syntax used above: `for n in G.nodes` suggests another way we can check if a node is in a graph:"
      ]
    },
    {
      "cell_type": "code",
      "execution_count": 24,
      "metadata": {
        "id": "FYfjvghMmgnB"
      },
      "outputs": [
        {
          "data": {
            "text/plain": [
              "True"
            ]
          },
          "execution_count": 24,
          "metadata": {},
          "output_type": "execute_result"
        }
      ],
      "source": [
        "'d' in G.nodes"
      ]
    },
    {
      "cell_type": "markdown",
      "metadata": {
        "id": "rh0IEZxmmgnB"
      },
      "source": [
        "Likewise we can check if two nodes are connected by an edge:"
      ]
    },
    {
      "cell_type": "code",
      "execution_count": 25,
      "metadata": {
        "id": "yoEeHW2vmgnB"
      },
      "outputs": [
        {
          "data": {
            "text/plain": [
              "True"
            ]
          },
          "execution_count": 25,
          "metadata": {},
          "output_type": "execute_result"
        }
      ],
      "source": [
        "G.has_edge('a', 'b')"
      ]
    },
    {
      "cell_type": "code",
      "execution_count": 26,
      "metadata": {
        "id": "xJnFSISSmgnB"
      },
      "outputs": [
        {
          "data": {
            "text/plain": [
              "False"
            ]
          },
          "execution_count": 26,
          "metadata": {},
          "output_type": "execute_result"
        }
      ],
      "source": [
        "G.has_edge('a', 'd')"
      ]
    },
    {
      "cell_type": "code",
      "execution_count": 27,
      "metadata": {
        "id": "r9nCt42kmgnB"
      },
      "outputs": [
        {
          "data": {
            "text/plain": [
              "True"
            ]
          },
          "execution_count": 27,
          "metadata": {},
          "output_type": "execute_result"
        }
      ],
      "source": [
        "('c', 'd') in G.edges"
      ]
    },
    {
      "cell_type": "markdown",
      "metadata": {
        "id": "bZCoiuVdmgnB"
      },
      "source": [
        "## Node degree\n"
      ]
    },
    {
      "cell_type": "markdown",
      "metadata": {
        "id": "tgJM-8O_9eSd"
      },
      "source": [
        "\n",
        "One of the most important questions we can ask about a node in a graph is how many other nodes it connects to. Using the `.neighbors()` method from above, we could formulate this question as so:"
      ]
    },
    {
      "cell_type": "code",
      "execution_count": 28,
      "metadata": {
        "id": "MDtjYBvJmgnB"
      },
      "outputs": [
        {
          "data": {
            "text/plain": [
              "2"
            ]
          },
          "execution_count": 28,
          "metadata": {},
          "output_type": "execute_result"
        }
      ],
      "source": [
        "len(list(G.neighbors('a')))"
      ]
    },
    {
      "cell_type": "markdown",
      "metadata": {
        "id": "l8ftq28RmgnB"
      },
      "source": [
        "but this is such a common task that NetworkX provides us a graph method to do this in a much clearer way:"
      ]
    },
    {
      "cell_type": "code",
      "execution_count": 29,
      "metadata": {
        "id": "IHuE22BpmgnB"
      },
      "outputs": [
        {
          "data": {
            "text/plain": [
              "2"
            ]
          },
          "execution_count": 29,
          "metadata": {},
          "output_type": "execute_result"
        }
      ],
      "source": [
        "G.degree('a')"
      ]
    },
    {
      "cell_type": "markdown",
      "metadata": {},
      "source": [
        "# Shareing\n"
      ]
    },
    {
      "cell_type": "markdown",
      "metadata": {},
      "source": [
        "Compartilhando conhecimento criando este notebook!!!"
      ]
    },
    {
      "cell_type": "markdown",
      "metadata": {},
      "source": [
        "# Experiencing\n"
      ]
    },
    {
      "cell_type": "markdown",
      "metadata": {
        "id": "OEbvlDyImgnB"
      },
      "source": [
        "## EXERCISE 1\n",
        "\n"
      ]
    },
    {
      "cell_type": "markdown",
      "metadata": {
        "id": "SuO9vOYd9gFV"
      },
      "source": [
        "\n",
        "Often in the context of trees, a node with degree 1 is called a *leaf*. Write a function named `get_leaves` that takes a graph as an argument, loops through the nodes, and returns a list of nodes with degree 1."
      ]
    },
    {
      "cell_type": "code",
      "execution_count": 15,
      "metadata": {
        "id": "FlGKqf0MmgnB",
        "scrolled": true
      },
      "outputs": [],
      "source": [
        "def get_leaves(G):\n",
        "  return [node for node in G.nodes if G.degree(node) == 1]\n"
      ]
    },
    {
      "cell_type": "code",
      "execution_count": 16,
      "metadata": {
        "id": "mVBLr5_xmgnB",
        "scrolled": true
      },
      "outputs": [],
      "source": [
        "G = nx.Graph()\n",
        "G.add_edges_from([\n",
        "        ('a', 'b'),\n",
        "        ('a', 'd'),\n",
        "        ('c', 'd'),\n",
        "    ])\n",
        "assert set(get_leaves(G)) == {'c', 'b'}"
      ]
    },
    {
      "cell_type": "markdown",
      "metadata": {
        "id": "3ZJS8XwomgnC"
      },
      "source": [
        "# Aside: comprehensions\n"
      ]
    },
    {
      "cell_type": "markdown",
      "metadata": {
        "id": "UHiOy9Uc9hMQ"
      },
      "source": [
        "\n",
        "Often we have one sequence of values and we want to generate a new sequence by applying an operation to each item in the first. List comprehensions and generator expressions are compact ways to do this.\n",
        "\n",
        "List comprehensions are specified inside square brackets, and immediately produce a list of the result."
      ]
    },
    {
      "cell_type": "code",
      "execution_count": 17,
      "metadata": {
        "id": "PI4AO291mgnC"
      },
      "outputs": [
        {
          "data": {
            "text/plain": [
              "['SPIDER', 'Y', 'BANANA']"
            ]
          },
          "execution_count": 17,
          "metadata": {},
          "output_type": "execute_result"
        }
      ],
      "source": [
        "items = ['spider', 'y', 'banana']\n",
        "[item.upper() for item in items]"
      ]
    },
    {
      "cell_type": "markdown",
      "metadata": {
        "id": "0DiBW7LQmgnC"
      },
      "source": [
        "In the context of NetworkX, this is often used to do something with the node or edge lists:"
      ]
    },
    {
      "cell_type": "code",
      "execution_count": 18,
      "metadata": {
        "id": "OtB8bHjOmgnC"
      },
      "outputs": [
        {
          "name": "stdout",
          "output_type": "stream",
          "text": [
            "['a', 'b', 'd', 'c']\n",
            "[2, 1, 2, 1]\n"
          ]
        }
      ],
      "source": [
        "print(G.nodes())\n",
        "print([G.degree(n) for n in G.nodes()])"
      ]
    },
    {
      "cell_type": "markdown",
      "metadata": {
        "id": "k5mqjsNbmgnC"
      },
      "source": [
        "Generator expressions are slightly different as they are evaluated [lazily](https://en.wikipedia.org/wiki/Lazy_evaluation). These are specified using round braces, and if they are being expressed as a function argument, they can be specified without any braces. These are most often used in the context of aggregations like the `max` function:"
      ]
    },
    {
      "cell_type": "code",
      "execution_count": 19,
      "metadata": {
        "id": "bmlcYEMKmgnC"
      },
      "outputs": [
        {
          "data": {
            "text/plain": [
              "[6, 1, 6]"
            ]
          },
          "execution_count": 19,
          "metadata": {},
          "output_type": "execute_result"
        }
      ],
      "source": [
        "g = (len(item) for item in items)\n",
        "list(g)"
      ]
    },
    {
      "cell_type": "code",
      "execution_count": 20,
      "metadata": {
        "id": "fwrnavpvmgnC"
      },
      "outputs": [
        {
          "data": {
            "text/plain": [
              "6"
            ]
          },
          "execution_count": 20,
          "metadata": {},
          "output_type": "execute_result"
        }
      ],
      "source": [
        "max(len(item) for item in items)"
      ]
    },
    {
      "cell_type": "code",
      "execution_count": 21,
      "metadata": {
        "id": "IQiLeXAmmgnC"
      },
      "outputs": [
        {
          "data": {
            "text/plain": [
              "['BANANA', 'SPIDER', 'Y']"
            ]
          },
          "execution_count": 21,
          "metadata": {},
          "output_type": "execute_result"
        }
      ],
      "source": [
        "sorted(item.upper() for item in items)"
      ]
    },
    {
      "cell_type": "markdown",
      "metadata": {
        "id": "pOHp5rgxmgnC"
      },
      "source": [
        "## Node names\n"
      ]
    },
    {
      "cell_type": "markdown",
      "metadata": {
        "id": "xUhXjx4D9imG"
      },
      "source": [
        "\n",
        "The node names don't have to be single characters -- they can be strings or integers or any immutable object, and the types can be mixed. The example below uses strings and integers for names."
      ]
    },
    {
      "cell_type": "code",
      "execution_count": 39,
      "metadata": {
        "id": "2FM2ZUsImgnC"
      },
      "outputs": [
        {
          "data": {
            "image/png": "[encoded data removed]",
            "text/plain": [
              "<Figure size 800x600 with 1 Axes>"
            ]
          },
          "metadata": {},
          "output_type": "display_data"
        }
      ],
      "source": [
        "import matplotlib.pyplot as plt\n",
        "\n",
        "fig, ax = plt.subplots(1,1,figsize=(8,6))\n",
        "\n",
        "G = nx.Graph()\n",
        "G.add_nodes_from(['cat','dog','virus',13])\n",
        "G.add_edge('cat','dog')\n",
        "nx.draw(G, with_labels=True, font_color='white', node_size=1000, ax = ax)\n",
        "plt.show()"
      ]
    },
    {
      "cell_type": "markdown",
      "metadata": {
        "id": "np4_nOMVmgnC"
      },
      "source": [
        "# Adjacency lists\n"
      ]
    },
    {
      "cell_type": "markdown",
      "metadata": {
        "id": "Fi2GXDKb9k8N"
      },
      "source": [
        "\n",
        "One compact way to represent a graph is an adjacency list. This is most useful for unweighted graphs, directed or undirected. In an adjacency list, each line contains some number of node names. The first node name is the \"source\" and each other node name on the line is a \"target\". For instance, given the following adjacency list:\n",
        "```\n",
        "a d e\n",
        "b c\n",
        "c\n",
        "d\n",
        "e\n",
        "```\n",
        "the edges are as follows:\n",
        "```\n",
        "(a, d)\n",
        "(a, e)\n",
        "(b, c)\n",
        "```\n",
        "The nodes on their own line exist so that we are sure to include any singleton nodes. Note that if our graph is undirected, we only need to specify one direction for each edge. Importantly, whether the graph is directed or undirected is often not contained in the file itself -- you have to infer it. This is one limitation of the format.\n",
        "\n",
        "There is a file called `friends.adjlist`. It's a plain text file, so you can open it on your computer or in GitHub, but here are its contents:"
      ]
    },
    {
      "cell_type": "code",
      "execution_count": 41,
      "metadata": {
        "id": "gpwIjkhcznOp"
      },
      "outputs": [
        {
          "name": "stderr",
          "output_type": "stream",
          "text": [
            "Downloading...\n",
            "From: https://drive.google.com/uc?id=1-D5a3ells1jprz0cNMJ3eEHhW2RrnJDB\n",
            "To: c:\\Users\\vinic\\OneDrive\\Documentos\\2025.1\\AED II\\datastructure\\lessons\\week01\\friends.adjlist\n",
            "100%|██████████| 109/109 [00:00<?, ?B/s] \n"
          ]
        },
        {
          "data": {
            "text/plain": [
              "'friends.adjlist'"
            ]
          },
          "execution_count": 41,
          "metadata": {},
          "output_type": "execute_result"
        }
      ],
      "source": [
        "import gdown\n",
        "\n",
        "url = 'https://drive.google.com/uc?id=1-D5a3ells1jprz0cNMJ3eEHhW2RrnJDB'\n",
        "output = 'friends.adjlist'\n",
        "gdown.download(url, output, quiet=False)"
      ]
    },
    {
      "cell_type": "code",
      "execution_count": 42,
      "metadata": {
        "id": "Yet6Ll9wmgnD"
      },
      "outputs": [
        {
          "name": "stdout",
          "output_type": "stream",
          "text": [
            "George Frank Dennis\n",
            "Dennis Claire Esther\n",
            "Claire Frank Alice Esther\n",
            "Bob Alice\n",
            "Frank Alice\n",
            "Alice\n",
            "Esther\n",
            "Shelly\n",
            "\n"
          ]
        }
      ],
      "source": [
        "print(open('friends.adjlist').read())"
      ]
    },
    {
      "cell_type": "markdown",
      "metadata": {
        "id": "Nx-3UM19mgnD"
      },
      "source": [
        "NetworkX provides a way to read a graph from an adjacency list: `nx.read_adjlist()`. We will name this graph SG, for social graph."
      ]
    },
    {
      "cell_type": "code",
      "execution_count": 43,
      "metadata": {
        "id": "ZHZefiTWmgnD"
      },
      "outputs": [],
      "source": [
        "SG = nx.read_adjlist('friends.adjlist')"
      ]
    },
    {
      "cell_type": "markdown",
      "metadata": {
        "id": "HPYvh9tbmgnD"
      },
      "source": [
        "We know how to draw this graph:"
      ]
    },
    {
      "cell_type": "code",
      "execution_count": 44,
      "metadata": {
        "id": "Xqvx4sJRmgnD"
      },
      "outputs": [
        {
          "data": {
            "image/png": "[encoded data removed]",
            "text/plain": [
              "<Figure size 1000x800 with 1 Axes>"
            ]
          },
          "metadata": {},
          "output_type": "display_data"
        }
      ],
      "source": [
        "import matplotlib.pyplot as plt\n",
        "\n",
        "fig,ax = plt.subplots(1,1,figsize=(10,8))\n",
        "nx.draw(SG, node_size=2000, node_color='lightblue', with_labels=True,ax=ax)\n",
        "plt.show()"
      ]
    },
    {
      "cell_type": "markdown",
      "metadata": {
        "id": "sJkPbCgfmgnD"
      },
      "source": [
        "And we know how to get information such as the number of friends linked from a node:"
      ]
    },
    {
      "cell_type": "code",
      "execution_count": 45,
      "metadata": {
        "id": "3XEmjoTBmgnD"
      },
      "outputs": [
        {
          "data": {
            "text/plain": [
              "3"
            ]
          },
          "execution_count": 45,
          "metadata": {},
          "output_type": "execute_result"
        }
      ],
      "source": [
        "SG.degree('Alice')"
      ]
    },
    {
      "cell_type": "markdown",
      "metadata": {
        "id": "TcYdyCnEmgnD"
      },
      "source": [
        "## EXERCISE 2\n"
      ]
    },
    {
      "cell_type": "markdown",
      "metadata": {
        "id": "MsE6DTbI9m4t"
      },
      "source": [
        "\n",
        "Write a function max_degree that takes a graph as its argument, and returns a 2-tuple with the name and degree of the node with highest degree."
      ]
    },
    {
      "cell_type": "code",
      "execution_count": 47,
      "metadata": {
        "id": "DLufczZQmgnD",
        "scrolled": false
      },
      "outputs": [],
      "source": [
        "def max_degree(G):\n",
        "    return max(G.degree, key=lambda x: x[1])"
      ]
    },
    {
      "cell_type": "code",
      "execution_count": 48,
      "metadata": {
        "id": "aEQapPYNmgnD",
        "scrolled": false
      },
      "outputs": [],
      "source": [
        "SG = nx.read_adjlist('friends.adjlist')\n",
        "assert max_degree(SG) == ('Claire', 4)"
      ]
    },
    {
      "cell_type": "markdown",
      "metadata": {
        "id": "MCDbNldnmgnD"
      },
      "source": [
        "## EXERCISE 3\n"
      ]
    },
    {
      "cell_type": "markdown",
      "metadata": {
        "id": "RWup3uDm9n5I"
      },
      "source": [
        "\n",
        "Write a function `mutual_friends` that takes a graph and two nodes as arguments, and returns a list (or set) of nodes that are linked to both given nodes. For example, in the graph `SG` drawn above,\n",
        "\n",
        "    mutual_friends(SG, 'Alice', 'Claire') == ['Frank']\n",
        "\n",
        "an empty list or set should be returned in the case where two nodes have no mutual friends, e.g. George and Bob in `SG` drawn above."
      ]
    },
    {
      "cell_type": "code",
      "execution_count": 49,
      "metadata": {
        "id": "hpnX9YeKmgnD",
        "scrolled": false
      },
      "outputs": [],
      "source": [
        "def mutual_friends(G, node_1, node_2):\n",
        "  # Encontra os vizinhos de cada nó\n",
        "  neighbors_1 = set(G.neighbors(node_1))\n",
        "  neighbors_2 = set(G.neighbors(node_2))\n",
        "  \n",
        "  # Retorna a interseção dos conjuntos de vizinhos\n",
        "  return list(neighbors_1 & neighbors_2)"
      ]
    },
    {
      "cell_type": "code",
      "execution_count": 52,
      "metadata": {
        "id": "B2n0vCRYmgnE",
        "scrolled": true
      },
      "outputs": [],
      "source": [
        "SG = nx.read_adjlist('friends.adjlist')\n",
        "assert mutual_friends(SG, 'Alice', 'Claire') == ['Frank']\n",
        "assert mutual_friends(SG, 'George', 'Bob') == []\n",
        "assert sorted(mutual_friends(SG, 'Claire', 'George')) == ['Dennis', 'Frank']"
      ]
    },
    {
      "cell_type": "markdown",
      "metadata": {
        "id": "1Y9kUzI5mgnE"
      },
      "source": [
        "# Directed graphs\n"
      ]
    },
    {
      "cell_type": "markdown",
      "metadata": {
        "id": "vGwKHPk49pjQ"
      },
      "source": [
        "\n",
        "Unless otherwise specified, we assume graph edges are undirected -- they are symmetric and go both ways. But some relationships, e.g. predator-prey relationships, are asymmetric and best represented as directed graphs. NetworkX provides the `DiGraph` class for directed graphs."
      ]
    },
    {
      "cell_type": "code",
      "execution_count": 53,
      "metadata": {
        "id": "U-aYvHw2mgnE"
      },
      "outputs": [
        {
          "data": {
            "image/png": "[encoded data removed]",
            "text/plain": [
              "<Figure size 640x480 with 1 Axes>"
            ]
          },
          "metadata": {},
          "output_type": "display_data"
        }
      ],
      "source": [
        "D = nx.DiGraph()\n",
        "\n",
        "D.add_edges_from([(1,2),(2,3),(3,2),(3,4),(3,5),(4,5),(4,6),(5,6),(6,4),(4,2)])\n",
        "\n",
        "nx.draw(D, with_labels=True)"
      ]
    },
    {
      "cell_type": "markdown",
      "metadata": {
        "id": "cJh2UMM1mgnE"
      },
      "source": [
        "Note the asymmetry in graph methods dealing with edges such as `has_edge()`:"
      ]
    },
    {
      "cell_type": "code",
      "execution_count": 54,
      "metadata": {
        "id": "qR3qxAmPmgnE"
      },
      "outputs": [
        {
          "data": {
            "text/plain": [
              "True"
            ]
          },
          "execution_count": 54,
          "metadata": {},
          "output_type": "execute_result"
        }
      ],
      "source": [
        "D.has_edge(1,2)"
      ]
    },
    {
      "cell_type": "code",
      "execution_count": 55,
      "metadata": {
        "id": "GMOpNUIfmgnE"
      },
      "outputs": [
        {
          "data": {
            "text/plain": [
              "False"
            ]
          },
          "execution_count": 55,
          "metadata": {},
          "output_type": "execute_result"
        }
      ],
      "source": [
        "D.has_edge(2,1)"
      ]
    },
    {
      "cell_type": "markdown",
      "metadata": {
        "id": "1Sr0z0FQmgnE"
      },
      "source": [
        "Instead of the symmetric relationship \"neighbors\", nodes in directed graphs have predecessors (\"in-neighbors\") and successors (\"out-neighbors\"):"
      ]
    },
    {
      "cell_type": "code",
      "execution_count": 56,
      "metadata": {
        "id": "xgGAG8LCmgnE"
      },
      "outputs": [
        {
          "name": "stdout",
          "output_type": "stream",
          "text": [
            "Successors of 2: [3]\n",
            "Predecessors of 2: [1, 3, 4]\n"
          ]
        }
      ],
      "source": [
        "print('Successors of 2:', list(D.successors(2)))\n",
        "\n",
        "print('Predecessors of 2:', list(D.predecessors(2)))"
      ]
    },
    {
      "cell_type": "markdown",
      "metadata": {
        "id": "rsj-OkL8mgnE"
      },
      "source": [
        "Directed graphs have in-degree and out-degree, giving the number of edges pointing to and from the given node, respectively:"
      ]
    },
    {
      "cell_type": "code",
      "execution_count": 57,
      "metadata": {
        "id": "D_Wz7lDYmgnE"
      },
      "outputs": [
        {
          "data": {
            "text/plain": [
              "3"
            ]
          },
          "execution_count": 57,
          "metadata": {},
          "output_type": "execute_result"
        }
      ],
      "source": [
        "D.in_degree(2)"
      ]
    },
    {
      "cell_type": "code",
      "execution_count": 58,
      "metadata": {
        "id": "PRY7wcGpmgnE"
      },
      "outputs": [
        {
          "data": {
            "text/plain": [
              "1"
            ]
          },
          "execution_count": 58,
          "metadata": {},
          "output_type": "execute_result"
        }
      ],
      "source": [
        "D.out_degree(2)"
      ]
    },
    {
      "cell_type": "markdown",
      "metadata": {
        "id": "axgp9QB1mgnF"
      },
      "source": [
        "### Caveat\n",
        "\n",
        "Since NetworkX 2, the `.degree()` method on a directed graph gives the total degree: in-degree plus out-degree. However, in a bit of confusing nomenclature, the `neighbors` method is a synonym for `successors`, giving only the edges originating from the given node. This makes sense if you consider `neighbors` to be all the nodes reachable from the given node by following links, but it's easy to make the mistake of writing `.neighbors()` in your code when you really want both predecessors and successors."
      ]
    },
    {
      "cell_type": "code",
      "execution_count": 59,
      "metadata": {
        "id": "OkMlHO7KmgnF"
      },
      "outputs": [
        {
          "data": {
            "text/plain": [
              "4"
            ]
          },
          "execution_count": 59,
          "metadata": {},
          "output_type": "execute_result"
        }
      ],
      "source": [
        "D.degree(2)"
      ]
    },
    {
      "cell_type": "code",
      "execution_count": 60,
      "metadata": {
        "id": "1pUW9bzqmgnF",
        "scrolled": false
      },
      "outputs": [
        {
          "name": "stdout",
          "output_type": "stream",
          "text": [
            "Successors of 2: [3]\n",
            "\"Neighbors\" of 2: [3]\n"
          ]
        }
      ],
      "source": [
        "print('Successors of 2:', list(D.successors(2)))\n",
        "print('\"Neighbors\" of 2:', list(D.neighbors(2)))"
      ]
    }
  ],
  "metadata": {
    "colab": {
      "provenance": [],
      "toc_visible": true
    },
    "kernelspec": {
      "display_name": "Python 3",
      "language": "python",
      "name": "python3"
    },
    "language_info": {
      "codemirror_mode": {
        "name": "ipython",
        "version": 3
      },
      "file_extension": ".py",
      "mimetype": "text/x-python",
      "name": "python",
      "nbconvert_exporter": "python",
      "pygments_lexer": "ipython3",
      "version": "3.12.2"
    }
  },
  "nbformat": 4,
  "nbformat_minor": 0
}
